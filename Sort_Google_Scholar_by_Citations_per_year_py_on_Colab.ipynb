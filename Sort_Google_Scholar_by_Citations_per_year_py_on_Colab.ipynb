{
  "nbformat": 4,
  "nbformat_minor": 0,
  "metadata": {
    "colab": {
      "name": "Sort Google Scholar by Citations per year.py on Colab.ipynb",
      "provenance": [],
      "include_colab_link": true
    },
    "kernelspec": {
      "name": "python3",
      "display_name": "Python 3"
    }
  },
  "cells": [
    {
      "cell_type": "markdown",
      "metadata": {
        "id": "view-in-github",
        "colab_type": "text"
      },
      "source": [
        "<a href=\"https://colab.research.google.com/github/RandomForestRanger/Cookbooks/blob/master/Sort_Google_Scholar_by_Citations_per_year_py_on_Colab.ipynb\" target=\"_parent\"><img src=\"https://colab.research.google.com/assets/colab-badge.svg\" alt=\"Open In Colab\"/></a>"
      ]
    },
    {
      "cell_type": "markdown",
      "metadata": {
        "id": "M36VFanosbkb",
        "colab_type": "text"
      },
      "source": [
        "## Try `sortgs.py` on Google Colab\n",
        "This is a jupyter envirnment where you can try the code of the repository without installing anything. The only limitation is the robot checking problem which would require selenium and manual solution of the captchas, but for trying a few keywords, it should work! \n",
        "\n",
        "> **INSTRUCTIONS:** If this is the first time you are using a jupyter environment, you simply have to run the code blocks using the keyword `SHIFT` + `ENTER`. Make sure to update the keyword parameters when required. \n",
        "\n",
        "First, let's clone the repository:"
      ]
    },
    {
      "cell_type": "code",
      "metadata": {
        "id": "oPot8aWcsfei",
        "colab_type": "code",
        "outputId": "7f13fead-db4d-4a29-9cc7-52426cdab213",
        "colab": {
          "base_uri": "https://localhost:8080/",
          "height": 139
        }
      },
      "source": [
        "!git clone https://github.com/WittmannF/sort-google-scholar.git"
      ],
      "execution_count": 0,
      "outputs": [
        {
          "output_type": "stream",
          "text": [
            "Cloning into 'sort-google-scholar'...\n",
            "remote: Enumerating objects: 21, done.\u001b[K\n",
            "remote: Counting objects:   4% (1/21)\u001b[K\rremote: Counting objects:   9% (2/21)\u001b[K\rremote: Counting objects:  14% (3/21)\u001b[K\rremote: Counting objects:  19% (4/21)\u001b[K\rremote: Counting objects:  23% (5/21)\u001b[K\rremote: Counting objects:  28% (6/21)\u001b[K\rremote: Counting objects:  33% (7/21)\u001b[K\rremote: Counting objects:  38% (8/21)\u001b[K\rremote: Counting objects:  42% (9/21)\u001b[K\rremote: Counting objects:  47% (10/21)\u001b[K\rremote: Counting objects:  52% (11/21)\u001b[K\rremote: Counting objects:  57% (12/21)\u001b[K\rremote: Counting objects:  61% (13/21)\u001b[K\rremote: Counting objects:  66% (14/21)\u001b[K\rremote: Counting objects:  71% (15/21)\u001b[K\rremote: Counting objects:  76% (16/21)\u001b[K\rremote: Counting objects:  80% (17/21)\u001b[K\rremote: Counting objects:  85% (18/21)\u001b[K\rremote: Counting objects:  90% (19/21)\u001b[K\rremote: Counting objects:  95% (20/21)\u001b[K\rremote: Counting objects: 100% (21/21)\u001b[K\rremote: Counting objects: 100% (21/21), done.\u001b[K\n",
            "remote: Compressing objects:   4% (1/21)\u001b[K\rremote: Compressing objects:   9% (2/21)\u001b[K\rremote: Compressing objects:  14% (3/21)\u001b[K\rremote: Compressing objects:  19% (4/21)\u001b[K\rremote: Compressing objects:  23% (5/21)\u001b[K\rremote: Compressing objects:  28% (6/21)\u001b[K\rremote: Compressing objects:  33% (7/21)\u001b[K\rremote: Compressing objects:  38% (8/21)\u001b[K\rremote: Compressing objects:  42% (9/21)\u001b[K\rremote: Compressing objects:  47% (10/21)\u001b[K\rremote: Compressing objects:  52% (11/21)\u001b[K\rremote: Compressing objects:  57% (12/21)\u001b[K\rremote: Compressing objects:  61% (13/21)\u001b[K\rremote: Compressing objects:  66% (14/21)\u001b[K\rremote: Compressing objects:  71% (15/21)\u001b[K\rremote: Compressing objects:  76% (16/21)\u001b[K\rremote: Compressing objects:  80% (17/21)\u001b[K\rremote: Compressing objects:  85% (18/21)\u001b[K\rremote: Compressing objects:  90% (19/21)\u001b[K\rremote: Compressing objects:  95% (20/21)\u001b[K\rremote: Compressing objects: 100% (21/21)\u001b[K\rremote: Compressing objects: 100% (21/21), done.\u001b[K\n",
            "Receiving objects:   0% (1/188)   \rReceiving objects:   1% (2/188)   \rReceiving objects:   2% (4/188)   \rReceiving objects:   3% (6/188)   \rReceiving objects:   4% (8/188)   \rReceiving objects:   5% (10/188)   \rReceiving objects:   6% (12/188)   \rReceiving objects:   7% (14/188)   \rReceiving objects:   8% (16/188)   \rReceiving objects:   9% (17/188)   \rReceiving objects:  10% (19/188)   \rReceiving objects:  11% (21/188)   \rReceiving objects:  12% (23/188)   \rReceiving objects:  13% (25/188)   \rReceiving objects:  14% (27/188)   \rReceiving objects:  15% (29/188)   \rReceiving objects:  16% (31/188)   \rReceiving objects:  17% (32/188)   \rReceiving objects:  18% (34/188)   \rReceiving objects:  19% (36/188)   \rReceiving objects:  20% (38/188)   \rReceiving objects:  21% (40/188)   \rReceiving objects:  22% (42/188)   \rReceiving objects:  23% (44/188)   \rReceiving objects:  24% (46/188)   \rReceiving objects:  25% (47/188)   \rReceiving objects:  26% (49/188)   \rReceiving objects:  27% (51/188)   \rReceiving objects:  28% (53/188)   \rReceiving objects:  29% (55/188)   \rReceiving objects:  30% (57/188)   \rReceiving objects:  31% (59/188)   \rReceiving objects:  32% (61/188)   \rReceiving objects:  33% (63/188)   \rReceiving objects:  34% (64/188)   \rReceiving objects:  35% (66/188)   \rReceiving objects:  36% (68/188)   \rremote: Total 188 (delta 10), reused 2 (delta 0), pack-reused 167\u001b[K\n",
            "Receiving objects:  37% (70/188)   \rReceiving objects:  38% (72/188)   \rReceiving objects:  39% (74/188)   \rReceiving objects:  40% (76/188)   \rReceiving objects:  41% (78/188)   \rReceiving objects:  42% (79/188)   \rReceiving objects:  43% (81/188)   \rReceiving objects:  44% (83/188)   \rReceiving objects:  45% (85/188)   \rReceiving objects:  46% (87/188)   \rReceiving objects:  47% (89/188)   \rReceiving objects:  48% (91/188)   \rReceiving objects:  49% (93/188)   \rReceiving objects:  50% (94/188)   \rReceiving objects:  51% (96/188)   \rReceiving objects:  52% (98/188)   \rReceiving objects:  53% (100/188)   \rReceiving objects:  54% (102/188)   \rReceiving objects:  55% (104/188)   \rReceiving objects:  56% (106/188)   \rReceiving objects:  57% (108/188)   \rReceiving objects:  58% (110/188)   \rReceiving objects:  59% (111/188)   \rReceiving objects:  60% (113/188)   \rReceiving objects:  61% (115/188)   \rReceiving objects:  62% (117/188)   \rReceiving objects:  63% (119/188)   \rReceiving objects:  64% (121/188)   \rReceiving objects:  65% (123/188)   \rReceiving objects:  66% (125/188)   \rReceiving objects:  67% (126/188)   \rReceiving objects:  68% (128/188)   \rReceiving objects:  69% (130/188)   \rReceiving objects:  70% (132/188)   \rReceiving objects:  71% (134/188)   \rReceiving objects:  72% (136/188)   \rReceiving objects:  73% (138/188)   \rReceiving objects:  74% (140/188)   \rReceiving objects:  75% (141/188)   \rReceiving objects:  76% (143/188)   \rReceiving objects:  77% (145/188)   \rReceiving objects:  78% (147/188)   \rReceiving objects:  79% (149/188)   \rReceiving objects:  80% (151/188)   \rReceiving objects:  81% (153/188)   \rReceiving objects:  82% (155/188)   \rReceiving objects:  83% (157/188)   \rReceiving objects:  84% (158/188)   \rReceiving objects:  85% (160/188)   \rReceiving objects:  86% (162/188)   \rReceiving objects:  87% (164/188)   \rReceiving objects:  88% (166/188)   \rReceiving objects:  89% (168/188)   \rReceiving objects:  90% (170/188)   \rReceiving objects:  91% (172/188)   \rReceiving objects:  92% (173/188)   \rReceiving objects:  93% (175/188)   \rReceiving objects:  94% (177/188)   \rReceiving objects:  95% (179/188)   \rReceiving objects:  96% (181/188)   \rReceiving objects:  97% (183/188)   \rReceiving objects:  98% (185/188)   \rReceiving objects:  99% (187/188)   \rReceiving objects: 100% (188/188)   \rReceiving objects: 100% (188/188), 115.69 KiB | 5.03 MiB/s, done.\n",
            "Resolving deltas:   0% (0/84)   \rResolving deltas:   1% (1/84)   \rResolving deltas:  20% (17/84)   \rResolving deltas:  32% (27/84)   \rResolving deltas:  36% (31/84)   \rResolving deltas:  38% (32/84)   \rResolving deltas:  39% (33/84)   \rResolving deltas:  44% (37/84)   \rResolving deltas:  55% (47/84)   \rResolving deltas:  63% (53/84)   \rResolving deltas:  72% (61/84)   \rResolving deltas:  76% (64/84)   \rResolving deltas:  79% (67/84)   \rResolving deltas:  84% (71/84)   \rResolving deltas:  90% (76/84)   \rResolving deltas:  96% (81/84)   \rResolving deltas:  97% (82/84)   \rResolving deltas: 100% (84/84)   \rResolving deltas: 100% (84/84), done.\n"
          ],
          "name": "stdout"
        }
      ]
    },
    {
      "cell_type": "markdown",
      "metadata": {
        "id": "pM5XMRmVspR7",
        "colab_type": "text"
      },
      "source": [
        "Now, let's open the folder from the cloned repository:"
      ]
    },
    {
      "cell_type": "code",
      "metadata": {
        "id": "LQ0mCxVNrlCB",
        "colab_type": "code",
        "outputId": "ca9d5ad1-91e1-4676-e81b-eed6dc568d19",
        "colab": {
          "base_uri": "https://localhost:8080/",
          "height": 34
        }
      },
      "source": [
        "cd sort-google-scholar/"
      ],
      "execution_count": 0,
      "outputs": [
        {
          "output_type": "stream",
          "text": [
            "/content/sort-google-scholar\n"
          ],
          "name": "stdout"
        }
      ]
    },
    {
      "cell_type": "markdown",
      "metadata": {
        "id": "KALGyCEJsvTL",
        "colab_type": "text"
      },
      "source": [
        "Next, let's run the code. Make sure to change \"deep learning\" to the keyword that you would like to have it ranked."
      ]
    },
    {
      "cell_type": "code",
      "metadata": {
        "id": "dohZcNUmrost",
        "colab_type": "code",
        "outputId": "4e29aa1a-dac7-4b3c-9fba-600f3df34d6a",
        "colab": {
          "base_uri": "https://localhost:8080/",
          "height": 521
        }
      },
      "source": [
        "# Change 'deep learning' with the keyword that you would like to check\n",
        "!python sortgs.py --kw \"Protest South Africa\" --sortby \"cit/year\""
      ],
      "execution_count": 0,
      "outputs": [
        {
          "output_type": "stream",
          "text": [
            "Loading next 10 results\n",
            "sortgs.py:239: UserWarning: Year not found for Could not catch title, appending 0\n",
            "  warnings.warn(\"Year not found for {}, appending 0\".format(title[-1]))\n",
            "Loading next 20 results\n",
            "Loading next 30 results\n",
            "Loading next 40 results\n",
            "Loading next 50 results\n",
            "Loading next 60 results\n",
            "Loading next 70 results\n",
            "Loading next 80 results\n",
            "Loading next 90 results\n",
            "Loading next 100 results\n",
            "Column name to be sorted not found. Sorting by the number of citations...\n",
            "'cit/year'\n",
            "                              Author  ... cit/year\n",
            "Rank                                  ...         \n",
            "72                            Rasler  ...       24\n",
            "21                       Della Porta  ...       65\n",
            "51    Dalton, A Van Sickle, S Weldon  ...       38\n",
            "104                             Bond  ...       21\n",
            "29                             Soule  ...       16\n",
            "...                              ...  ...      ...\n",
            "34                  Author not found  ...        0\n",
            "23                  Author not found  ...        0\n",
            "12                  Author not found  ...        0\n",
            "5                   Author not found  ...        0\n",
            "111                 Author not found  ...        0\n",
            "\n",
            "[111 rows x 6 columns]\n"
          ],
          "name": "stdout"
        }
      ]
    },
    {
      "cell_type": "markdown",
      "metadata": {
        "id": "s_nuxpy_s_9c",
        "colab_type": "text"
      },
      "source": [
        "> _**NOTE:** It is normal to get some warnings, for example year not found or author not found. However, if you get the robot checking warning, then it might not work anymore in the IP that you have on Google Colab. You can try going in 'Runtime' and 'Reset all runtimes' to get a new IP, but it is not garanteed that it will work. If the problem persists, then you will have to run locally using selenium and solve the captchas manually. Make sure to avoid running this code too often to avoid the robot checking problem._\n",
        "\n",
        "Next, you will see that a csv file with the name of the keyword was created (which is `deep_learning.csv` in my case). "
      ]
    },
    {
      "cell_type": "code",
      "metadata": {
        "id": "94792EoBrrBU",
        "colab_type": "code",
        "outputId": "3dcfe0ad-74e5-44f3-8132-a95170d86775",
        "colab": {
          "base_uri": "https://localhost:8080/",
          "height": 69
        }
      },
      "source": [
        "ls"
      ],
      "execution_count": 0,
      "outputs": [
        {
          "output_type": "stream",
          "text": [
            "\u001b[0m\u001b[01;34mexamples\u001b[0m/                 \u001b[01;34msort-google-scholar-V1\u001b[0m/\n",
            "Protest_South_Africa.csv  sortgs.py\n",
            "README.md                 Test_sortgs_py_on_Colab.ipynb\n"
          ],
          "name": "stdout"
        }
      ]
    },
    {
      "cell_type": "markdown",
      "metadata": {
        "id": "QQIb9oYou9GM",
        "colab_type": "text"
      },
      "source": [
        "Let's import this file to visualize some results (make sure to change `deep_learning.csv` to the file name that was created in your case):"
      ]
    },
    {
      "cell_type": "code",
      "metadata": {
        "id": "NVoHI4zTr5pB",
        "colab_type": "code",
        "colab": {}
      },
      "source": [
        "import pandas as pd\n",
        "df = pd.read_csv('Cleisthenes_reforms.csv') # OBS: Update the file name"
      ],
      "execution_count": 0,
      "outputs": []
    },
    {
      "cell_type": "code",
      "metadata": {
        "id": "S1NzeUq0sOu-",
        "colab_type": "code",
        "outputId": "d1f71b20-9518-4e67-c4d3-34c87cec3d33",
        "colab": {
          "base_uri": "https://localhost:8080/",
          "height": 519
        }
      },
      "source": [
        "df.head(10)"
      ],
      "execution_count": 0,
      "outputs": [
        {
          "output_type": "execute_result",
          "data": {
            "text/html": [
              "<div>\n",
              "<style scoped>\n",
              "    .dataframe tbody tr th:only-of-type {\n",
              "        vertical-align: middle;\n",
              "    }\n",
              "\n",
              "    .dataframe tbody tr th {\n",
              "        vertical-align: top;\n",
              "    }\n",
              "\n",
              "    .dataframe thead th {\n",
              "        text-align: right;\n",
              "    }\n",
              "</style>\n",
              "<table border=\"1\" class=\"dataframe\">\n",
              "  <thead>\n",
              "    <tr style=\"text-align: right;\">\n",
              "      <th></th>\n",
              "      <th>Rank</th>\n",
              "      <th>Author</th>\n",
              "      <th>Title</th>\n",
              "      <th>Citations</th>\n",
              "      <th>Year</th>\n",
              "      <th>Source</th>\n",
              "      <th>cit/year</th>\n",
              "    </tr>\n",
              "  </thead>\n",
              "  <tbody>\n",
              "    <tr>\n",
              "      <th>0</th>\n",
              "      <td>49</td>\n",
              "      <td>Ostwald</td>\n",
              "      <td>From popular sovereignty to the sovereignty of...</td>\n",
              "      <td>812</td>\n",
              "      <td>1987</td>\n",
              "      <td>https://books.google.com/books?hl=en&amp;lr=&amp;id=gs...</td>\n",
              "      <td>24</td>\n",
              "    </tr>\n",
              "    <tr>\n",
              "      <th>1</th>\n",
              "      <td>87</td>\n",
              "      <td>Mueller</td>\n",
              "      <td>Constitutional democracy</td>\n",
              "      <td>666</td>\n",
              "      <td>1996</td>\n",
              "      <td>https://books.google.com/books?hl=en&amp;lr=&amp;id=_I...</td>\n",
              "      <td>27</td>\n",
              "    </tr>\n",
              "    <tr>\n",
              "      <th>2</th>\n",
              "      <td>57</td>\n",
              "      <td>Miller</td>\n",
              "      <td>Nature, justice, and rights in Aristotle's Pol...</td>\n",
              "      <td>602</td>\n",
              "      <td>1997</td>\n",
              "      <td>https://books.google.com/books?hl=en&amp;lr=&amp;id=6i...</td>\n",
              "      <td>25</td>\n",
              "    </tr>\n",
              "    <tr>\n",
              "      <th>3</th>\n",
              "      <td>53</td>\n",
              "      <td>Ostwald</td>\n",
              "      <td>Could not catch title</td>\n",
              "      <td>513</td>\n",
              "      <td>1969</td>\n",
              "      <td>Look manually at: https://scholar.google.com/s...</td>\n",
              "      <td>10</td>\n",
              "    </tr>\n",
              "    <tr>\n",
              "      <th>4</th>\n",
              "      <td>28</td>\n",
              "      <td>Sealey</td>\n",
              "      <td>A History of the Greek city States, 700-338 BC</td>\n",
              "      <td>315</td>\n",
              "      <td>1976</td>\n",
              "      <td>https://books.google.com/books?hl=en&amp;lr=&amp;id=pa...</td>\n",
              "      <td>7</td>\n",
              "    </tr>\n",
              "    <tr>\n",
              "      <th>5</th>\n",
              "      <td>90</td>\n",
              "      <td>Raaflaub, J Ober, R Wallace</td>\n",
              "      <td>Origins of democracy in ancient Greece</td>\n",
              "      <td>257</td>\n",
              "      <td>2007</td>\n",
              "      <td>https://books.google.com/books?hl=en&amp;lr=&amp;id=rv...</td>\n",
              "      <td>18</td>\n",
              "    </tr>\n",
              "    <tr>\n",
              "      <th>6</th>\n",
              "      <td>3</td>\n",
              "      <td>Lewis</td>\n",
              "      <td>Cleisthenes and Attica</td>\n",
              "      <td>156</td>\n",
              "      <td>1963</td>\n",
              "      <td>https://www.jstor.org/stable/4434773</td>\n",
              "      <td>3</td>\n",
              "    </tr>\n",
              "    <tr>\n",
              "      <th>7</th>\n",
              "      <td>19</td>\n",
              "      <td>Osborne, S Hornblower</td>\n",
              "      <td>Could not catch title</td>\n",
              "      <td>154</td>\n",
              "      <td>1994</td>\n",
              "      <td>Look manually at: https://scholar.google.com/s...</td>\n",
              "      <td>6</td>\n",
              "    </tr>\n",
              "    <tr>\n",
              "      <th>8</th>\n",
              "      <td>40</td>\n",
              "      <td>Murray</td>\n",
              "      <td>Cities of reason</td>\n",
              "      <td>109</td>\n",
              "      <td>1987</td>\n",
              "      <td>https://www.cambridge.org/core/journals/europe...</td>\n",
              "      <td>3</td>\n",
              "    </tr>\n",
              "    <tr>\n",
              "      <th>9</th>\n",
              "      <td>8</td>\n",
              "      <td>Frost</td>\n",
              "      <td>The Athenian Military before Cleisthenes</td>\n",
              "      <td>91</td>\n",
              "      <td>1984</td>\n",
              "      <td>https://www.jstor.org/stable/4435890</td>\n",
              "      <td>2</td>\n",
              "    </tr>\n",
              "  </tbody>\n",
              "</table>\n",
              "</div>"
            ],
            "text/plain": [
              "   Rank  ... cit/year\n",
              "0    49  ...       24\n",
              "1    87  ...       27\n",
              "2    57  ...       25\n",
              "3    53  ...       10\n",
              "4    28  ...        7\n",
              "5    90  ...       18\n",
              "6     3  ...        3\n",
              "7    19  ...        6\n",
              "8    40  ...        3\n",
              "9     8  ...        2\n",
              "\n",
              "[10 rows x 7 columns]"
            ]
          },
          "metadata": {
            "tags": []
          },
          "execution_count": 7
        }
      ]
    },
    {
      "cell_type": "markdown",
      "metadata": {
        "id": "t7ZCDWaksZxj",
        "colab_type": "text"
      },
      "source": [
        "Above we have the top 10 papers of deep learning ranked by citations per year. It is incredible that some papers are very far away from the original rank. For example, the fourth most cited paper per year is originally the number 41 in the original rank of Google! "
      ]
    },
    {
      "cell_type": "markdown",
      "metadata": {
        "id": "-xx5GEHuybPd",
        "colab_type": "text"
      },
      "source": [
        "Finally, let's download the CSV results (make sure to update the CSV name here as well):"
      ]
    },
    {
      "cell_type": "code",
      "metadata": {
        "id": "Svc1GCM2yaLP",
        "colab_type": "code",
        "colab": {}
      },
      "source": [
        "from google.colab import files\n",
        "files.download('Cleisthenes_reforms.csv') # Update the file name here"
      ],
      "execution_count": 0,
      "outputs": []
    },
    {
      "cell_type": "markdown",
      "metadata": {
        "id": "09OFwDdM2K5h",
        "colab_type": "text"
      },
      "source": [
        "OBS: If you get an error running the previous line, you can download the file manually by clicking in the left pane icon (below the `+ Code` button), then click in files, expand the `sort-google-scholar` folder, right click and download in the csv file:\n",
        "\n",
        "![](https://i.stack.imgur.com/KKJXFm.png)"
      ]
    },
    {
      "cell_type": "code",
      "metadata": {
        "id": "pM_Bb4MH14eI",
        "colab_type": "code",
        "colab": {}
      },
      "source": [
        ""
      ],
      "execution_count": 0,
      "outputs": []
    }
  ]
}